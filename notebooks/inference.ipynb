{
 "cells": [
  {
   "cell_type": "code",
   "execution_count": 20,
   "metadata": {},
   "outputs": [],
   "source": [
    "import sys\n",
    "import json\n",
    "\n",
    "sys.path.insert(0, \"/Users/falaputin/virtual_assistant/trucase_project/ru-punctuation-truecase/src/inference\")\n",
    "from config import (\n",
    "    MODEL_MAX_LENGTH,\n",
    "    MODEL_NAME,\n",
    "    PATH_TO_ABBREVIATIONS,\n",
    "    PATH_TO_CHECKPOINT,\n",
    ")\n",
    "from model import ReCapitalizationModel"
   ]
  },
  {
   "cell_type": "code",
   "execution_count": 22,
   "metadata": {},
   "outputs": [
    {
     "name": "stdout",
     "output_type": "stream",
     "text": [
      "Что такое Рдтт? Что такое РДТТ?\n",
      "Что такое Ржд? Что такое РЖД?\n",
      "Где находится Уралвагонзавод? Где находится УралВагонЗавод?\n",
      "Для чего нужна Ескд? Для чего нужна ЕСКД?\n",
      "Когда открыли Мэи? Когда открыли МЭИ?\n",
      "В каком году основали Маи? В каком году основали МАИ?\n",
      "Что такое Бам? Что такое БАМ?\n",
      "Что такое Зато? Что такое ЗАТО?\n",
      "Что такое кога? Что такое КОГА?\n",
      "Что такое нос? Что такое НОС?\n",
      "Что такое Ору? Что такое ОРУ?\n",
      "Что такое ЯК? Что такое Як?\n"
     ]
    }
   ],
   "source": [
    "recapitalization_model = ReCapitalizationModel(\n",
    "    path_to_checkpoint=PATH_TO_CHECKPOINT,\n",
    "    model_name=MODEL_NAME,\n",
    "    model_max_length=MODEL_MAX_LENGTH,\n",
    "    is_question=True,\n",
    "    path_to_abbreviations=PATH_TO_ABBREVIATIONS,\n",
    ")\n",
    "\n",
    "with open(\"/Users/falaputin/virtual_assistant/trucase_project/ru-punctuation-truecase/notebooks/truecase_abbreviation_valid.json\") as f:\n",
    "    data = json.load(f)\n",
    "\n",
    "truecase_data = {}\n",
    "\n",
    "for key, value in data.items():\n",
    "    truecase_key = recapitalization_model.restore_capitalization([key])[0]\n",
    "    if truecase_key != key:\n",
    "        print(truecase_key, key)"
   ]
  }
 ],
 "metadata": {
  "kernelspec": {
   "display_name": "Python 3",
   "language": "python",
   "name": "python3"
  },
  "language_info": {
   "codemirror_mode": {
    "name": "ipython",
    "version": 3
   },
   "file_extension": ".py",
   "mimetype": "text/x-python",
   "name": "python",
   "nbconvert_exporter": "python",
   "pygments_lexer": "ipython3",
   "version": "3.10.5"
  },
  "orig_nbformat": 4
 },
 "nbformat": 4,
 "nbformat_minor": 2
}

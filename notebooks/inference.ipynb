{
 "cells": [
  {
   "cell_type": "code",
   "execution_count": 1,
   "metadata": {},
   "outputs": [],
   "source": [
    "import sys\n",
    "import json\n",
    "\n",
    "sys.path.insert(0, \"/Users/falaputin/virtual_assistant/trucase_project/ru-punctuation-truecase/src/inference\")\n",
    "from config import (\n",
    "    MODEL_MAX_LENGTH,\n",
    "    MODEL_NAME,\n",
    "    PATH_TO_ABBREVIATIONS,\n",
    "    PATH_TO_CHECKPOINT,\n",
    ")\n",
    "from model import ReCapitalizationModel, TextHandler"
   ]
  },
  {
   "attachments": {},
   "cell_type": "markdown",
   "metadata": {},
   "source": [
    "Inference модели на json файле"
   ]
  },
  {
   "cell_type": "code",
   "execution_count": null,
   "metadata": {},
   "outputs": [],
   "source": [
    "recapitalization_model = ReCapitalizationModel(\n",
    "    path_to_checkpoint=PATH_TO_CHECKPOINT,\n",
    "    model_name=MODEL_NAME,\n",
    "    model_max_length=MODEL_MAX_LENGTH,\n",
    "    is_question=True,\n",
    "    path_to_abbreviations=PATH_TO_ABBREVIATIONS,\n",
    ")\n",
    "\n",
    "with open(\"/Users/falaputin/Downloads/Telegram Desktop/truecase_question_14092023.json\") as f:\n",
    "    data = json.load(f)\n",
    "\n",
    "truecase_data = {}\n",
    "\n",
    "for key, value in data.items():\n",
    "    truecase_key = recapitalization_model.restore_capitalization([key])[0]\n",
    "    truecase_data[truecase_key] = value\n",
    "    if truecase_key != key:\n",
    "        print(truecase_key, key)\n",
    "\n",
    "json_string = json.dumps(truecase_data, ensure_ascii=False, indent=4)\n",
    "with open(\"truecase_question_after_model_14092023.json\", \"w\", encoding='utf-8\"') as outfile:\n",
    "    outfile.write(json_string)"
   ]
  },
  {
   "attachments": {},
   "cell_type": "markdown",
   "metadata": {},
   "source": [
    "Inference модели"
   ]
  },
  {
   "cell_type": "code",
   "execution_count": null,
   "metadata": {},
   "outputs": [],
   "source": [
    "recapitalization_model = ReCapitalizationModel(\n",
    "    path_to_checkpoint=PATH_TO_CHECKPOINT,\n",
    "    model_name=MODEL_NAME,\n",
    "    model_max_length=MODEL_MAX_LENGTH,\n",
    "    is_question=True,\n",
    "    path_to_abbreviations=PATH_TO_ABBREVIATIONS,\n",
    ")"
   ]
  },
  {
   "cell_type": "code",
   "execution_count": null,
   "metadata": {},
   "outputs": [],
   "source": [
    "texts = TextHandler.convert_to_lowercase_and_remove_punctuation_on_batch(texts)\n",
    "texts_words = TextHandler.split_texts_into_words(texts)\n",
    "\n",
    "inputs = recapitalization_model._tokenize_texts(texts_words)\n",
    "predictions = recapitalization_model._predict_token_classification(inputs)"
   ]
  },
  {
   "cell_type": "code",
   "execution_count": null,
   "metadata": {},
   "outputs": [],
   "source": [
    "predicted_token_class = [recapitalization_model.token_classifier.config.id2label[t.item()] for t in predictions[0]]\n",
    "predicted_token_class"
   ]
  },
  {
   "cell_type": "code",
   "execution_count": null,
   "metadata": {},
   "outputs": [],
   "source": [
    "ids = inputs['input_ids'][0].tolist()\n",
    "recapitalization_model.tokenizer.decode(ids, skip_special_tokens=True)\n"
   ]
  },
  {
   "cell_type": "code",
   "execution_count": null,
   "metadata": {},
   "outputs": [],
   "source": [
    "with open(\"/Users/falaputin/Downloads/Telegram Desktop/truecase_without_abbreviation_valid (2).json\") as f:\n",
    "    data = json.load(f)\n",
    "data"
   ]
  }
 ],
 "metadata": {
  "kernelspec": {
   "display_name": "Python 3",
   "language": "python",
   "name": "python3"
  },
  "language_info": {
   "codemirror_mode": {
    "name": "ipython",
    "version": 3
   },
   "file_extension": ".py",
   "mimetype": "text/x-python",
   "name": "python",
   "nbconvert_exporter": "python",
   "pygments_lexer": "ipython3",
   "version": "3.10.5"
  },
  "orig_nbformat": 4
 },
 "nbformat": 4,
 "nbformat_minor": 2
}
